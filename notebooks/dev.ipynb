{
 "cells": [
  {
   "cell_type": "code",
   "execution_count": 59,
   "metadata": {},
   "outputs": [],
   "source": [
    "import torch\n",
    "import matplotlib.pyplot as plt\n",
    "import polytope as pc\n",
    "import numpy as np"
   ]
  },
  {
   "cell_type": "code",
   "execution_count": 89,
   "metadata": {},
   "outputs": [],
   "source": [
    "state_dimen = 2\n",
    "action_dimen = 2\n",
    "x_max = 10\n",
    "y_max = 10\n",
    "T = 40\n",
    "R = 4\n",
    "E = 3\n",
    "N = 1\n",
    "\n",
    "obstacle_constraints = [pc.box2poly([[4, 5], [4, 5]])]\n",
    "safe_constraint = pc.box2poly([[7, 8], [7, 8]])"
   ]
  },
  {
   "cell_type": "code",
   "execution_count": 67,
   "metadata": {},
   "outputs": [],
   "source": [
    "def dynamics(s, a):\n",
    "    assert s.shape == (state_dimen,)\n",
    "    assert a.shape == (action_dimen,)\n",
    "    \n",
    "    return s + a\n",
    "\n",
    "def objective_cost(t):\n",
    "    return 0\n",
    "\n",
    "def check_intersect(t, c):\n",
    "    assert t.shape[1] == state_dimen\n",
    "    for i in range(t.shape[0]):\n",
    "        if t[i].numpy() in c:\n",
    "            return True\n",
    "    return False\n",
    "\n",
    "def constraint_cost(t):\n",
    "    cost = 0\n",
    "    \n",
    "    # Work out how to implement cost for obstacles.\n",
    "    for c in obstacle_constraints:\n",
    "        if check_intersect(t, c):\n",
    "            cost += 1\n",
    "    \n",
    "    if t[-1] not in safe_constraint:\n",
    "        cost += np.linalg.norm(safe_constraint.chebXc - t[-1].numpy())\n",
    "        \n",
    "    # Actions?\n",
    "    \n",
    "    return cost"
   ]
  },
  {
   "cell_type": "code",
   "execution_count": 96,
   "metadata": {},
   "outputs": [
    {
     "name": "stdout",
     "output_type": "stream",
     "text": [
      "torch.Size([40, 2]) torch.Size([3, 40, 2]) torch.Size([4, 40, 2])\n",
      "torch.Size([40, 2])\n"
     ]
    },
    {
     "data": {
      "image/png": "[encoded data removed]",
      "text/plain": [
       "<Figure size 432x288 with 1 Axes>"
      ]
     },
     "metadata": {
      "needs_background": "light"
     },
     "output_type": "display_data"
    }
   ],
   "source": [
    "def plot_trajs(axes, ts):\n",
    "    axes.set_xticks([0, x_max])\n",
    "    axes.set_yticks([0, y_max])\n",
    "    \n",
    "    obstacle_constraints[0].plot(ax=axes)\n",
    "    safe_constraint.plot(ax=axes)\n",
    "    \n",
    "    for t in ts:\n",
    "        xs = [s[0].item() for s in t]\n",
    "        ys = [s[1].item() for s in t]\n",
    "        axes.plot(xs, ys)\n",
    "\n",
    "def sample_traj(means, stds):\n",
    "    aes = torch.distributions.Normal(means, stds).sample()\n",
    "\n",
    "    t = [torch.tensor([0, 0], dtype=torch.float)]\n",
    "    for a in aes:\n",
    "        t.append(dynamics(t[-1], a))\n",
    "\n",
    "    return torch.stack(t), aes\n",
    "\n",
    "means = torch.zeros((R, T, action_dimen))\n",
    "stds = torch.ones((R, T, action_dimen))\n",
    "for i in range(N):\n",
    "    ts = [sample_traj(mean, std) for mean, std in zip(means, stds)]\n",
    "    costs = [(aes, constraint_cost(t)) for (t,aes) in ts]\n",
    "    costs.sort(key=lambda x: x[1])\n",
    "    elites = [aes for aes,_ in costs[:E]]\n",
    "    elite_aes = torch.stack(elites)\n",
    "    print(elites[0].shape, elite_aes.shape, means.shape)\n",
    "    means = elite_aes.mean(dim=0)\n",
    "    print(means.shape)\n",
    "    axes = plt.axes()\n",
    "    plot_trajs(axes, ts[0])\n",
    "    plt.show()\n"
   ]
  },
  {
   "cell_type": "code",
   "execution_count": 25,
   "metadata": {},
   "outputs": [
    {
     "name": "stdout",
     "output_type": "stream",
     "text": [
      "tensor([-0.5521,  1.1039])\n",
      "tensor([ 1.0439, -0.7478])\n",
      "tensor([0.1652, 0.7849])\n",
      "tensor([-1.3026, -0.3922])\n",
      "tensor([0.7330, 1.2623])\n",
      "tensor([-1.0687, -0.7226])\n",
      "tensor([ 0.5993, -1.0912])\n",
      "tensor([ 1.1459, -0.3476])\n",
      "tensor([-0.9909,  1.0988])\n",
      "tensor([ 0.8709, -0.5737])\n",
      "tensor([0.5551, 0.6813])\n",
      "tensor([-0.4386, -0.2578])\n",
      "tensor([ 1.1157, -0.1205])\n",
      "tensor([-0.0775,  0.4435])\n",
      "tensor([-0.3626, -0.8952])\n",
      "tensor([-0.8293, -0.0180])\n",
      "tensor([-1.4605,  0.1083])\n",
      "tensor([1.8463, 1.0060])\n",
      "tensor([0.6586, 0.8389])\n",
      "tensor([-1.1280,  0.1612])\n"
     ]
    }
   ],
   "source": []
  }
 ],
 "metadata": {
  "kernelspec": {
   "display_name": "constrained-cem-mpc",
   "language": "python",
   "name": "constrained-cem-mpc"
  },
  "language_info": {
   "codemirror_mode": {
    "name": "ipython",
    "version": 3
   },
   "file_extension": ".py",
   "mimetype": "text/x-python",
   "name": "python",
   "nbconvert_exporter": "python",
   "pygments_lexer": "ipython3",
   "version": "3.7.3"
  }
 },
 "nbformat": 4,
 "nbformat_minor": 2
}
